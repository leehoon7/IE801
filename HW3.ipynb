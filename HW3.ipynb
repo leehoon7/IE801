{
 "cells": [
  {
   "cell_type": "markdown",
   "metadata": {},
   "source": [
    "### IE801(B) Logistics Management HW3\n",
    "\n",
    "- Lee Kanghoon, 20203421"
   ]
  },
  {
   "cell_type": "code",
   "execution_count": 40,
   "metadata": {},
   "outputs": [],
   "source": [
    "import networkx as nx\n",
    "import numpy as np\n",
    "import random\n",
    "import matplotlib.pyplot as plt\n",
    "import time\n",
    "import copy\n",
    "\n",
    "import gurobipy as gp\n",
    "from gurobipy import GRB"
   ]
  },
  {
   "cell_type": "markdown",
   "metadata": {},
   "source": [
    "### Branch-and-Price algorithm\n",
    "\n",
    "Implement the Branch-and-Price algorithm for solving the Constrained Shortest Path Problem (CSPP)\n",
    "\n",
    "![nn](./Images/HW3_image1.png)\n",
    "\n",
    "reference : https://en.wikipedia.org/wiki/Branch_and_price"
   ]
  },
  {
   "cell_type": "code",
   "execution_count": null,
   "metadata": {},
   "outputs": [],
   "source": []
  },
  {
   "cell_type": "markdown",
   "metadata": {},
   "source": [
    "### Problem 1.\n",
    "\n",
    "Using your Branch-and-Price code, solve the toy example considered in the class. \n",
    "![nn](./Images/HW3_image2.png)\n",
    "\n",
    "reference : Desrosiers, Jacques, and Marco E. Lübbecke. \"A primer in column generation.\" Column generation. Springer, Boston, MA, 2005. 1-32."
   ]
  },
  {
   "cell_type": "markdown",
   "metadata": {},
   "source": [
    "### Practice : solve the constrained shortest path problem with MIP\n",
    "\n",
    "![nn](./Images/HW3_image3.png)"
   ]
  },
  {
   "cell_type": "code",
   "execution_count": 119,
   "metadata": {},
   "outputs": [],
   "source": [
    "def solve_CSPP_example():\n",
    "    \n",
    "    # problem parameter\n",
    "    num_nodes = 6\n",
    "    num_edges = 10\n",
    "    edges = [(1, 2, {'cost': 1, 'time': 10}),\n",
    "            (1, 3, {'cost': 10, 'time': 3}),\n",
    "            (2, 4, {'cost': 1, 'time': 1}),\n",
    "            (2, 5, {'cost': 2, 'time': 3}),\n",
    "            (3, 2, {'cost': 1, 'time': 2}),\n",
    "            (3, 4, {'cost': 5, 'time': 7}),\n",
    "            (3, 5, {'cost': 12, 'time': 3}),\n",
    "            (4, 5, {'cost': 10, 'time': 1}),\n",
    "            (4, 6, {'cost': 1, 'time': 7}),\n",
    "            (5, 6, {'cost': 2, 'time': 2})]\n",
    "\n",
    "    G = nx.DiGraph()\n",
    "    G.add_node(num_nodes)\n",
    "    G.add_edges_from(edges)\n",
    "\n",
    "    model = gp.Model()\n",
    "    model.Params.LogToConsole = 0\n",
    "    variables = gp.tupledict()\n",
    "\n",
    "    # (1.1), (1.6)\n",
    "    for edge in edges:\n",
    "        i, j, data = edge\n",
    "        variables[i, j] = model.addVar(obj=data['cost'],\n",
    "                                       vtype=GRB.BINARY)\n",
    "\n",
    "    # (1.2) ~ (1.4)\n",
    "    for n in range(1, num_nodes+1):\n",
    "        term1 = sum(variables[i, j] for i, j in G.out_edges(n))\n",
    "        term2 = sum(variables[i, j] for i, j in G.in_edges(n))\n",
    "        equation = term1 - term2\n",
    "\n",
    "        if n == 1:\n",
    "            model.addConstr(equation == 1)\n",
    "        elif n == num_nodes:\n",
    "            model.addConstr(equation == -1)\n",
    "        else:\n",
    "            model.addConstr(equation == 0)\n",
    "\n",
    "    # (1.5)\n",
    "    equation = None\n",
    "    for edge in edges:\n",
    "        i, j, data = edge\n",
    "        equation += data['time'] * variables[i, j]\n",
    "    model.addConstr(equation <= 14)\n",
    "\n",
    "    # optimize!\n",
    "    model._vars = variables\n",
    "    model.optimize()\n",
    "\n",
    "    solution = model.getAttr('x', variables)\n",
    "    value = model.objVal\n",
    "    \n",
    "    G = nx.DiGraph()\n",
    "    G.add_node(num_nodes)\n",
    "\n",
    "    for i, j in solution:\n",
    "        if solution[(i, j)] == 1.0:\n",
    "            G.add_edge(i, j)\n",
    "    path = list(nx.algorithms.simple_paths.shortest_simple_paths(G, 1, 6))[0]\n",
    "    print('path  : ', path)\n",
    "    print('value : ', value)"
   ]
  },
  {
   "cell_type": "code",
   "execution_count": 120,
   "metadata": {},
   "outputs": [
    {
     "name": "stdout",
     "output_type": "stream",
     "text": [
      "path  :  [1, 3, 2, 4, 6]\n",
      "value :  13.0\n"
     ]
    }
   ],
   "source": [
    "solve_CSPP_example()"
   ]
  },
  {
   "cell_type": "markdown",
   "metadata": {},
   "source": [
    "### master problem\n",
    "\n",
    "![nn](./Images/HW3_image4.png)"
   ]
  },
  {
   "cell_type": "code",
   "execution_count": 198,
   "metadata": {},
   "outputs": [],
   "source": [
    "def BP_CSSP(num_nodes, edges):\n",
    "\n",
    "    path = {}\n",
    "    path_list = []\n",
    "    cost_list = []\n",
    "    time_list = []\n",
    "    cnt = 0\n",
    "    \n",
    "    for i in range(6):\n",
    "        print(\"----------\")\n",
    "        print(\"iteration.. : \", i+1)\n",
    "        cnt += 1\n",
    "        num_paths = len(path_list)\n",
    "        print(\"cost : \", cost_list)\n",
    "        print(\"time : \", time_list)\n",
    "\n",
    "        model = gp.Model()\n",
    "        model.Params.LogToConsole = 0\n",
    "        variables = gp.tupledict()\n",
    "\n",
    "        for i in range(num_paths):\n",
    "            variables[i] = model.addVar(obj=cost_list[i])\n",
    "        variables['y'] = model.addVar(obj=10000)\n",
    "\n",
    "        const_r = model.addConstr(sum(time_list[i] * variables[i] for i in range(num_paths)) <= 14)\n",
    "        const_c = model.addConstr(sum(variables[i] for i in range(num_paths)) + variables['y'] == 1)\n",
    "\n",
    "        model._vars = variables\n",
    "        model.optimize()\n",
    "\n",
    "        solution = model.getAttr('x', variables)\n",
    "        value = model.objVal\n",
    "        \n",
    "        print(solution, value)\n",
    "\n",
    "        pi1 = const_r.Pi\n",
    "        pi0 = const_c.Pi\n",
    "        \n",
    "        for edge in edges:\n",
    "            edge[-1]['revised_cost'] = edge[-1]['cost'] - pi1 * edge[-1]['time']\n",
    "        \n",
    "        G = nx.DiGraph()\n",
    "        G.add_node(num_nodes)\n",
    "        G.add_edges_from(edges)\n",
    "\n",
    "        length, path_sub = nx.algorithms.shortest_paths.weighted.single_source_bellman_ford(G, 1, 6, 'revised_cost')\n",
    "        min_reduced_cost = length - pi0\n",
    "        print(min_reduced_cost)\n",
    "        print(length, path_sub)\n",
    "        cost_sub = nx.classes.path_weight(G, path_sub, 'cost')\n",
    "        time_sub = nx.classes.path_weight(G, path_sub, 'time')\n",
    "        \n",
    "        path[cnt] = path_sub\n",
    "        path_list.append(cnt)\n",
    "        cost_list.append(cost_sub)\n",
    "        time_list.append(time_sub)"
   ]
  },
  {
   "cell_type": "code",
   "execution_count": 199,
   "metadata": {},
   "outputs": [
    {
     "name": "stdout",
     "output_type": "stream",
     "text": [
      "----------\n",
      "iteration.. :  1\n",
      "cost :  []\n",
      "time :  []\n",
      "{'y': 1.0} 10000.0\n",
      "-9997.0\n",
      "3.0 [1, 2, 4, 6]\n",
      "----------\n",
      "iteration.. :  2\n",
      "cost :  [3]\n",
      "time :  [18]\n",
      "{0: 0.7777777777777778, 'y': 0.22222222222222232} 2224.5555555555566\n",
      "-5532.888888888889\n",
      "4467.111111111111 [1, 3, 5, 6]\n",
      "----------\n",
      "iteration.. :  3\n",
      "cost :  [3, 24]\n",
      "time :  [18, 8]\n",
      "{0: 0.6, 1: 0.4, 'y': 0.0} 11.400000000000002\n",
      "-4.799999999999997\n",
      "36.0 [1, 3, 2, 5, 6]\n",
      "----------\n",
      "iteration.. :  4\n",
      "cost :  [3, 24, 15]\n",
      "time :  [18, 8, 10]\n",
      "{0: 0.5000000000000001, 1: 0.0, 2: 0.49999999999999983, 'y': 0.0} 8.999999999999998\n",
      "-2.5\n",
      "27.5 [1, 2, 5, 6]\n",
      "----------\n",
      "iteration.. :  5\n",
      "cost :  [3, 24, 15, 5]\n",
      "time :  [18, 8, 10, 15]\n",
      "{0: 0.0, 1: 0.0, 2: 0.19999999999999993, 3: 0.8, 'y': 0.0} 6.999999999999999\n",
      "0.0\n",
      "35.0 [1, 2, 5, 6]\n",
      "----------\n",
      "iteration.. :  6\n",
      "cost :  [3, 24, 15, 5, 5]\n",
      "time :  [18, 8, 10, 15, 15]\n",
      "{0: 0.0, 1: 0.0, 2: 0.19999999999999993, 3: 0.0, 4: 0.8, 'y': 0.0} 6.999999999999999\n",
      "0.0\n",
      "35.0 [1, 2, 5, 6]\n"
     ]
    }
   ],
   "source": [
    "# problem parameter\n",
    "num_nodes = 6\n",
    "edges = [(1, 2, {'cost': 1, 'time': 10}),\n",
    "        (1, 3, {'cost': 10, 'time': 3}),\n",
    "        (2, 4, {'cost': 1, 'time': 1}),\n",
    "        (2, 5, {'cost': 2, 'time': 3}),\n",
    "        (3, 2, {'cost': 1, 'time': 2}),\n",
    "        (3, 4, {'cost': 5, 'time': 7}),\n",
    "        (3, 5, {'cost': 12, 'time': 3}),\n",
    "        (4, 5, {'cost': 10, 'time': 1}),\n",
    "        (4, 6, {'cost': 1, 'time': 7}),\n",
    "        (5, 6, {'cost': 2, 'time': 2})]\n",
    "\n",
    "BP_CSSP(num_nodes, edges)"
   ]
  },
  {
   "cell_type": "code",
   "execution_count": null,
   "metadata": {},
   "outputs": [],
   "source": []
  }
 ],
 "metadata": {
  "kernelspec": {
   "display_name": "Python 3 (ipykernel)",
   "language": "python",
   "name": "python3"
  },
  "language_info": {
   "codemirror_mode": {
    "name": "ipython",
    "version": 3
   },
   "file_extension": ".py",
   "mimetype": "text/x-python",
   "name": "python",
   "nbconvert_exporter": "python",
   "pygments_lexer": "ipython3",
   "version": "3.7.11"
  }
 },
 "nbformat": 4,
 "nbformat_minor": 2
}
