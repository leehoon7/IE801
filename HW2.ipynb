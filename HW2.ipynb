{
 "cells": [
  {
   "cell_type": "markdown",
   "metadata": {},
   "source": [
    "### IE801 물류관리 HW2\n",
    "\n",
    "- 이름 : 이강훈\n",
    "- 학번 : 20203421"
   ]
  },
  {
   "cell_type": "code",
   "execution_count": 2,
   "metadata": {},
   "outputs": [],
   "source": [
    "import networkx as nx\n",
    "import numpy as np\n",
    "import random\n",
    "import matplotlib.pyplot as plt\n",
    "import time\n",
    "import copy\n",
    "\n",
    "import gurobipy as gp\n",
    "from gurobipy import GRB\n",
    "from itertools import product"
   ]
  },
  {
   "cell_type": "markdown",
   "metadata": {},
   "source": [
    "### Problem 1 : Generate TSP instances of n=20, 50, 100 randomly."
   ]
  },
  {
   "cell_type": "code",
   "execution_count": 3,
   "metadata": {},
   "outputs": [],
   "source": [
    "def generate_instance(num_nodes):\n",
    "    x = np.random.randint(100, size=num_nodes)\n",
    "    y = np.random.randint(100, size=num_nodes)\n",
    "    return x, y"
   ]
  },
  {
   "cell_type": "code",
   "execution_count": 4,
   "metadata": {},
   "outputs": [],
   "source": [
    "def visualize_points(x, y, title=None, tour=None):\n",
    "\n",
    "    border = 5\n",
    "    plt.xlim(0 - border, 100 + border)\n",
    "    plt.ylim(0 - border, 100 + border)\n",
    "    \n",
    "    plt.xticks([])\n",
    "    plt.yticks([])\n",
    "    \n",
    "    if title:\n",
    "        plt.title(title)\n",
    "    \n",
    "    if tour is None:\n",
    "        plt.scatter(x, y)\n",
    "    else:\n",
    "        plt.plot(x[tour], y[tour], marker='o')\n",
    "        \n",
    "    plt.show()\n",
    "    plt.close('all')"
   ]
  },
  {
   "cell_type": "code",
   "execution_count": 5,
   "metadata": {},
   "outputs": [
    {
     "data": {
      "image/png": "[encoded data removed]",
      "text/plain": [
       "<Figure size 432x288 with 1 Axes>"
      ]
     },
     "metadata": {},
     "output_type": "display_data"
    },
    {
     "data": {
      "image/png": "[encoded data removed]",
      "text/plain": [
       "<Figure size 432x288 with 1 Axes>"
      ]
     },
     "metadata": {},
     "output_type": "display_data"
    },
    {
     "data": {
      "image/png": "[encoded data removed]",
      "text/plain": [
       "<Figure size 432x288 with 1 Axes>"
      ]
     },
     "metadata": {},
     "output_type": "display_data"
    }
   ],
   "source": [
    "x, y = generate_instance(20)\n",
    "visualize_points(x, y, \"20 nodes\")\n",
    "\n",
    "x, y = generate_instance(50)\n",
    "visualize_points(x, y, \"50 nodes\")\n",
    "\n",
    "x, y = generate_instance(100)\n",
    "visualize_points(x, y, \"100 nodes\")"
   ]
  },
  {
   "cell_type": "markdown",
   "metadata": {},
   "source": [
    "### Problem 2 : Solve the problems using Gurobi and lazy constraints.\n",
    "\n",
    "![nn](./Images/HW2_image1.png)\n",
    "\n",
    "Reference : https://www.gurobi.com/documentation/9.1/examples/tsp_py.html"
   ]
  },
  {
   "cell_type": "code",
   "execution_count": 68,
   "metadata": {},
   "outputs": [],
   "source": [
    "def get_cost(x, y):\n",
    "    \n",
    "    x_ = x.copy().reshape(-1, 1)\n",
    "    y_ = y.copy().reshape(-1, 1)\n",
    "    cost = np.sqrt((x - x_) ** 2 + (y - y_) ** 2)\n",
    "    \n",
    "    return cost"
   ]
  },
  {
   "cell_type": "code",
   "execution_count": 69,
   "metadata": {},
   "outputs": [],
   "source": [
    "# Callback - use lazy constraints to eliminate sub-tours\n",
    "def subtourelim(model, where):\n",
    "    if where == GRB.Callback.MIPSOL:\n",
    "        # make a list of edges selected in the solution\n",
    "        vals = model.cbGetSolution(model._vars)\n",
    "        selected = gp.tuplelist((i, j) for i, j in model._vars.keys() if vals[i, j] > 0.5)\n",
    "        # find the shortest cycle in the selected edge list\n",
    "        n = int(model.ModelName)\n",
    "        tour = subtour(selected, n)\n",
    "        \n",
    "        if len(tour) < n:\n",
    "            out_nodes = list(set(range(n)) - set(tour))\n",
    "            in_nodes = tour\n",
    "            model.cbLazy(gp.quicksum(model._vars[i, j] for i, j in product(out_nodes, in_nodes)) >= 1)"
   ]
  },
  {
   "cell_type": "code",
   "execution_count": 70,
   "metadata": {},
   "outputs": [],
   "source": [
    "# Given a tuplelist of edges, find the shortest subtour\n",
    "def subtour(edges, n):\n",
    "    unvisited = list(range(n))\n",
    "    cycle = range(n+1)  # initial length has 1 more city\n",
    "    while unvisited:  # true if list is non-empty\n",
    "        thiscycle = []\n",
    "        neighbors = unvisited\n",
    "        while neighbors:\n",
    "            current = neighbors[0]\n",
    "            thiscycle.append(current)\n",
    "            unvisited.remove(current)\n",
    "            neighbors = [j for i, j in edges.select(current, '*')\n",
    "                         if j in unvisited]\n",
    "        if len(cycle) > len(thiscycle):\n",
    "            cycle = thiscycle\n",
    "    return cycle"
   ]
  },
  {
   "cell_type": "code",
   "execution_count": 75,
   "metadata": {},
   "outputs": [
    {
     "name": "stdout",
     "output_type": "stream",
     "text": [
      "\n",
      "Optimal tour: [0, 35, 45, 7, 29, 98, 91, 22, 94, 71, 44, 36, 34, 48, 63, 53, 66, 83, 14, 6, 92, 99, 86, 1, 43, 26, 70, 28, 74, 5, 90, 47, 84, 52, 15, 32, 37, 95, 67, 62, 42, 50, 16, 2, 79, 33, 12, 93, 57, 73, 54, 11, 72, 75, 97, 41, 69, 89, 39, 81, 30, 17, 61, 46, 25, 38, 51, 82, 40, 68, 9, 76, 65, 19, 58, 8, 60, 31, 21, 24, 56, 49, 27, 87, 23, 59, 20, 13, 64, 77, 18, 88, 4, 80, 3, 55, 78, 96, 10, 85]\n",
      "Optimal cost: 741.299\n",
      "\n"
     ]
    }
   ],
   "source": [
    "num_nodes = 100\n",
    "\n",
    "np.random.seed(2021)\n",
    "x, y = generate_instance(num_nodes)\n",
    "cost = get_cost(x, y)\n",
    "\n",
    "model = gp.Model(name=str(num_nodes))\n",
    "model.Params.LogToConsole = 0\n",
    "variables = gp.tupledict()\n",
    "\n",
    "for i in range(num_nodes):\n",
    "    for j in range(num_nodes):\n",
    "        if i != j:\n",
    "            variables[i, j] = model.addVar(obj=cost[i][j], vtype=GRB.BINARY, name=str(num_nodes))\n",
    "\n",
    "for i in range(num_nodes):\n",
    "    temp_list = list(range(num_nodes))\n",
    "    temp_list.pop(i)\n",
    "    model.addConstr(sum(variables[i, j] for j in temp_list) == 1)\n",
    "    model.addConstr(sum(variables[j, i] for j in temp_list) == 1)\n",
    "\n",
    "model._vars = variables\n",
    "model.Params.lazyConstraints = 1\n",
    "model.optimize(subtourelim)\n",
    "\n",
    "vals = model.getAttr('x', variables)\n",
    "selected = gp.tuplelist((i, j) for i, j in vals.keys() if vals[i, j] > 0.5)\n",
    "\n",
    "tour = subtour(selected, num_nodes)\n",
    "assert len(tour) == num_nodes\n",
    "\n",
    "print('')\n",
    "print('Optimal tour: %s' % str(tour))\n",
    "print('Optimal cost: %g' % model.objVal)\n",
    "print('')"
   ]
  },
  {
   "cell_type": "code",
   "execution_count": null,
   "metadata": {},
   "outputs": [],
   "source": [
    "def solve_TSP"
   ]
  },
  {
   "cell_type": "code",
   "execution_count": 77,
   "metadata": {},
   "outputs": [
    {
     "data": {
      "image/png": "[encoded data removed]",
      "text/plain": [
       "<Figure size 432x288 with 1 Axes>"
      ]
     },
     "metadata": {},
     "output_type": "display_data"
    },
    {
     "data": {
      "image/png": "[encoded data removed]",
      "text/plain": [
       "<Figure size 432x288 with 1 Axes>"
      ]
     },
     "metadata": {},
     "output_type": "display_data"
    }
   ],
   "source": [
    "tour = tour + [0]\n",
    "visualize_points(x, y)\n",
    "visualize_points(x, y, 'tour', tour)"
   ]
  },
  {
   "cell_type": "markdown",
   "metadata": {},
   "source": [
    "### Problem 3 : Solve the problems using the Concorde and LKH solvers."
   ]
  },
  {
   "cell_type": "code",
   "execution_count": null,
   "metadata": {},
   "outputs": [],
   "source": []
  }
 ],
 "metadata": {
  "kernelspec": {
   "display_name": "Python 3 (ipykernel)",
   "language": "python",
   "name": "python3"
  },
  "language_info": {
   "codemirror_mode": {
    "name": "ipython",
    "version": 3
   },
   "file_extension": ".py",
   "mimetype": "text/x-python",
   "name": "python",
   "nbconvert_exporter": "python",
   "pygments_lexer": "ipython3",
   "version": "3.7.11"
  }
 },
 "nbformat": 4,
 "nbformat_minor": 2
}
