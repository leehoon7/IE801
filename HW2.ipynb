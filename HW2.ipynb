{
 "cells": [
  {
   "cell_type": "markdown",
   "metadata": {},
   "source": [
    "### IE801 물류관리 HW2\n",
    "\n",
    "- 이름 : 이강훈\n",
    "- 학번 : 20203421"
   ]
  },
  {
   "cell_type": "code",
   "execution_count": 37,
   "metadata": {},
   "outputs": [],
   "source": [
    "import networkx as nx\n",
    "import numpy as np\n",
    "import random\n",
    "import matplotlib.pyplot as plt\n",
    "import time\n",
    "import copy\n",
    "\n",
    "import gurobipy as gp\n",
    "from gurobipy import GRB\n",
    "from itertools import product"
   ]
  },
  {
   "cell_type": "markdown",
   "metadata": {},
   "source": [
    "### Problem 1 : Generate TSP instances of n=20, 50, 100 randomly.\n",
    "\n",
    "    \n",
    "- generate_instance\n",
    "    - 도시의 갯수를 받아서 그에 따른 정수 기반 위치를 반환.\n",
    "    \n",
    "    \n",
    "- visualize_points\n",
    "    - 도시들의 (x, y) 좌표를 받아서 visualize\n",
    "    - tour path도 넘겨주면 그에 따른 path도 visualize."
   ]
  },
  {
   "cell_type": "code",
   "execution_count": 38,
   "metadata": {},
   "outputs": [],
   "source": [
    "def generate_instance(num_nodes):\n",
    "    x = np.random.randint(100, size=num_nodes)\n",
    "    y = np.random.randint(100, size=num_nodes)\n",
    "    return x, y"
   ]
  },
  {
   "cell_type": "code",
   "execution_count": 39,
   "metadata": {},
   "outputs": [],
   "source": [
    "def visualize_points(x, y, title=None, tour=None):\n",
    "\n",
    "    border = 5\n",
    "    plt.xlim(0 - border, 100 + border)\n",
    "    plt.ylim(0 - border, 100 + border)\n",
    "    \n",
    "    plt.xticks([])\n",
    "    plt.yticks([])\n",
    "    \n",
    "    if title:\n",
    "        plt.title(title)\n",
    "    \n",
    "    if tour is None:\n",
    "        plt.scatter(x, y)\n",
    "    else:\n",
    "        plt.plot(x[tour], y[tour], marker='o')\n",
    "        \n",
    "    plt.show()\n",
    "    plt.close('all')"
   ]
  },
  {
   "cell_type": "code",
   "execution_count": 40,
   "metadata": {},
   "outputs": [
    {
     "data": {
      "image/png": "[encoded data removed]",
      "text/plain": [
       "<Figure size 432x288 with 1 Axes>"
      ]
     },
     "metadata": {},
     "output_type": "display_data"
    },
    {
     "data": {
      "image/png": "[encoded data removed]",
      "text/plain": [
       "<Figure size 432x288 with 1 Axes>"
      ]
     },
     "metadata": {},
     "output_type": "display_data"
    },
    {
     "data": {
      "image/png": "[encoded data removed]",
      "text/plain": [
       "<Figure size 432x288 with 1 Axes>"
      ]
     },
     "metadata": {},
     "output_type": "display_data"
    }
   ],
   "source": [
    "x, y = generate_instance(20)\n",
    "visualize_points(x, y, \"20 nodes\")\n",
    "\n",
    "x, y = generate_instance(50)\n",
    "visualize_points(x, y, \"50 nodes\")\n",
    "\n",
    "x, y = generate_instance(100)\n",
    "visualize_points(x, y, \"100 nodes\")"
   ]
  },
  {
   "cell_type": "markdown",
   "metadata": {},
   "source": [
    "### Problem 2 : Solve the problems using Gurobi and lazy constraints.\n",
    "\n",
    "![nn](./Images/HW2_image1.png)\n",
    "\n",
    "Reference : https://www.gurobi.com/documentation/9.1/examples/tsp_py.html\n",
    "\n",
    "- get_cost\n",
    "    - 도시들의 (x, y) 좌표를 받아서 i 도시에서 j 도시까지의 거리를 계산한 numpy array를 반환.\n",
    "    \n",
    "    \n",
    "- subtourelim\n",
    "    - TSP MILP 문제를 풀다가 solution을 찾게 되면 call 되는 function. \n",
    "    - subtour의 존재여부를 파악한 뒤, 만약 존재하면 subtour를 제거할 수 있도록 그에 맞는 constraint (2.11) 를 추가.\n",
    "    - lazy constraint가 적용되는 부분.\n",
    "    \n",
    "    \n",
    "- subtour\n",
    "    - edge들간의 연결관계를 받아서, 가장 작은 subtour를 반환.\n",
    "    \n",
    "    \n",
    "- solve_TSP\n",
    "    - 도시들의 (x, y) 좌표를 받아서 minimum cost tour path를 반환. \n",
    "    - solve TSP MILP with gurobi.\n",
    "    - (2.8), (2.9), (2.10), (2.12) 식이 구현되어 있음."
   ]
  },
  {
   "cell_type": "code",
   "execution_count": 81,
   "metadata": {},
   "outputs": [],
   "source": [
    "def get_cost(x, y, integer=False):\n",
    "    \n",
    "    x_ = x.copy().reshape(-1, 1)\n",
    "    y_ = y.copy().reshape(-1, 1)\n",
    "    cost = np.sqrt((x - x_) ** 2 + (y - y_) ** 2)\n",
    "\n",
    "    if integer:\n",
    "        return np.round(cost, 0).astype(dtype=np.int64)\n",
    "    else:\n",
    "        return cost"
   ]
  },
  {
   "cell_type": "code",
   "execution_count": 42,
   "metadata": {},
   "outputs": [],
   "source": [
    "def subtourelim(model, where):\n",
    "    if where == GRB.Callback.MIPSOL:\n",
    "        # make a list of edges selected in the solution\n",
    "        vals = model.cbGetSolution(model._vars)\n",
    "        selected = gp.tuplelist((i, j) for i, j in model._vars.keys() if vals[i, j] > 0.5)\n",
    "        # find the shortest cycle in the selected edge list\n",
    "        n = int(model.ModelName)\n",
    "        tour = subtour(selected, n)\n",
    "        \n",
    "        if len(tour) < n:\n",
    "            out_nodes = list(set(range(n)) - set(tour))\n",
    "            in_nodes = tour\n",
    "            model.cbLazy(gp.quicksum(model._vars[i, j] for i, j in product(out_nodes, in_nodes)) >= 1)"
   ]
  },
  {
   "cell_type": "code",
   "execution_count": 43,
   "metadata": {},
   "outputs": [],
   "source": [
    "def subtour(edges, n):\n",
    "    unvisited = list(range(n))\n",
    "    cycle = range(n+1)  # initial length has 1 more city\n",
    "    while unvisited:  # true if list is non-empty\n",
    "        thiscycle = []\n",
    "        neighbors = unvisited\n",
    "        while neighbors:\n",
    "            current = neighbors[0]\n",
    "            thiscycle.append(current)\n",
    "            unvisited.remove(current)\n",
    "            neighbors = [j for i, j in edges.select(current, '*') if j in unvisited]\n",
    "        if len(cycle) > len(thiscycle):\n",
    "            cycle = thiscycle\n",
    "    return cycle"
   ]
  },
  {
   "cell_type": "code",
   "execution_count": 44,
   "metadata": {},
   "outputs": [],
   "source": [
    "def solve_TSP(x, y):\n",
    "    num_nodes = x.shape[0]\n",
    "    cost = get_cost(x, y)\n",
    "    \n",
    "    model = gp.Model(name=str(num_nodes))\n",
    "    model.Params.LogToConsole = 0\n",
    "    variables = gp.tupledict()\n",
    "\n",
    "    for i in range(num_nodes):\n",
    "        for j in range(num_nodes):\n",
    "            if i != j:\n",
    "                variables[i, j] = model.addVar(obj=cost[i][j], vtype=GRB.BINARY, name=str(num_nodes))\n",
    "\n",
    "    for i in range(num_nodes):\n",
    "        temp_list = list(range(num_nodes))\n",
    "        temp_list.pop(i)\n",
    "        model.addConstr(sum(variables[i, j] for j in temp_list) == 1)\n",
    "        model.addConstr(sum(variables[j, i] for j in temp_list) == 1)\n",
    "\n",
    "    model._vars = variables\n",
    "    model.Params.lazyConstraints = 1\n",
    "    model.optimize(subtourelim)\n",
    "\n",
    "    vals = model.getAttr('x', variables)\n",
    "    selected = gp.tuplelist((i, j) for i, j in vals.keys() if vals[i, j] > 0.5)\n",
    "\n",
    "    tour = subtour(selected, num_nodes)\n",
    "    assert len(tour) == num_nodes\n",
    "    \n",
    "    tour = tour + [0]\n",
    "    return tour, model.objVal"
   ]
  },
  {
   "cell_type": "code",
   "execution_count": 45,
   "metadata": {},
   "outputs": [
    {
     "name": "stdout",
     "output_type": "stream",
     "text": [
      "Academic license - for non-commercial use only - expires 2022-09-19\n",
      "Using license file C:\\Users\\Kanghoon\\gurobi.lic\n"
     ]
    },
    {
     "data": {
      "image/png": "[encoded data removed]",
      "text/plain": [
       "<Figure size 432x288 with 1 Axes>"
      ]
     },
     "metadata": {},
     "output_type": "display_data"
    },
    {
     "data": {
      "image/png": "[encoded data removed]",
      "text/plain": [
       "<Figure size 432x288 with 1 Axes>"
      ]
     },
     "metadata": {},
     "output_type": "display_data"
    }
   ],
   "source": [
    "x, y = generate_instance(20)\n",
    "tour, cost = solve_TSP(x, y)\n",
    "\n",
    "visualize_points(x, y)\n",
    "visualize_points(x, y, '20 cities TSP', tour)"
   ]
  },
  {
   "cell_type": "code",
   "execution_count": 46,
   "metadata": {},
   "outputs": [
    {
     "data": {
      "image/png": "[encoded data removed]",
      "text/plain": [
       "<Figure size 432x288 with 1 Axes>"
      ]
     },
     "metadata": {},
     "output_type": "display_data"
    },
    {
     "data": {
      "image/png": "[encoded data removed]",
      "text/plain": [
       "<Figure size 432x288 with 1 Axes>"
      ]
     },
     "metadata": {},
     "output_type": "display_data"
    }
   ],
   "source": [
    "x, y = generate_instance(50)\n",
    "tour, cost = solve_TSP(x, y)\n",
    "\n",
    "visualize_points(x, y)\n",
    "visualize_points(x, y, '50 cities TSP', tour)"
   ]
  },
  {
   "cell_type": "code",
   "execution_count": 47,
   "metadata": {},
   "outputs": [
    {
     "data": {
      "image/png": "[encoded data removed]",
      "text/plain": [
       "<Figure size 432x288 with 1 Axes>"
      ]
     },
     "metadata": {},
     "output_type": "display_data"
    },
    {
     "data": {
      "image/png": "[encoded data removed]",
      "text/plain": [
       "<Figure size 432x288 with 1 Axes>"
      ]
     },
     "metadata": {},
     "output_type": "display_data"
    }
   ],
   "source": [
    "x, y = generate_instance(100)\n",
    "tour, cost = solve_TSP(x, y)\n",
    "\n",
    "visualize_points(x, y)\n",
    "visualize_points(x, y, '100 cities TSP', tour)"
   ]
  },
  {
   "cell_type": "markdown",
   "metadata": {},
   "source": [
    "### Problem 3 : Solve the problems using the Concorde and LKH solvers."
   ]
  },
  {
   "cell_type": "code",
   "execution_count": 48,
   "metadata": {},
   "outputs": [
    {
     "name": "stdout",
     "output_type": "stream",
     "text": [
      "The julia.magic extension is already loaded. To reload it, use:\n",
      "  %reload_ext julia.magic\n"
     ]
    }
   ],
   "source": [
    "%load_ext julia.magic"
   ]
  },
  {
   "cell_type": "code",
   "execution_count": 84,
   "metadata": {},
   "outputs": [],
   "source": [
    "%julia using PyCall\n",
    "\n",
    "%julia using Concorde\n",
    "%julia using LKH"
   ]
  },
  {
   "cell_type": "code",
   "execution_count": 56,
   "metadata": {},
   "outputs": [
    {
     "data": {
      "text/plain": [
       "(array([1, 3, 2, 4], dtype=int64), 29)"
      ]
     },
     "execution_count": 56,
     "metadata": {},
     "output_type": "execute_result"
    }
   ],
   "source": [
    "%%julia\n",
    "\n",
    "M = [\n",
    "     0  16   7  14\n",
    "    16   0   3   5\n",
    "     7   3   0  16\n",
    "    14   5  16   0 \n",
    "]\n",
    "\n",
    "opt_tour, opt_len = solve_tsp(M)"
   ]
  },
  {
   "cell_type": "code",
   "execution_count": 69,
   "metadata": {},
   "outputs": [
    {
     "name": "stdout",
     "output_type": "stream",
     "text": [
      "int64\n",
      "<class 'numpy.ndarray'> <class 'numpy.ndarray'>\n"
     ]
    }
   ],
   "source": [
    "a = %julia opt_tour\n",
    "b = 324234\n",
    "k = %julia M\n",
    "print(k.dtype)\n",
    "print(type(a), type(k))"
   ]
  },
  {
   "cell_type": "code",
   "execution_count": 60,
   "metadata": {},
   "outputs": [
    {
     "data": {
      "text/plain": [
       "array([ 2, 99,  5, 62, 66, 29, 70, 10, 43, 14, 41, 68, 10, 72, 57, 19, 96,\n",
       "       79,  7, 29, 55,  4, 72, 34, 31, 82, 61,  7, 81, 68, 79, 95, 48, 34,\n",
       "       55, 89, 22, 27, 12, 67, 60, 45, 94, 16, 44, 81, 33, 67, 66, 29,  3,\n",
       "       70, 80, 74,  4, 43, 97, 88, 24, 21,  0, 54,  1, 17,  7, 45, 66, 82,\n",
       "        9, 45, 51, 15, 67, 37, 89, 68, 42, 66, 15, 63, 58, 78,  4, 74, 52,\n",
       "       17, 53, 34,  3, 26,  4, 64, 95, 18, 77, 40, 26, 36, 14, 38],\n",
       "      dtype=int32)"
      ]
     },
     "execution_count": 60,
     "metadata": {},
     "output_type": "execute_result"
    }
   ],
   "source": [
    "%%julia\n",
    "\n",
    "\n",
    "a = py\"\"\"x\"\"\""
   ]
  },
  {
   "cell_type": "code",
   "execution_count": 25,
   "metadata": {},
   "outputs": [],
   "source": [
    "%%python\n",
    "\n",
    "b = 3"
   ]
  },
  {
   "cell_type": "code",
   "execution_count": 71,
   "metadata": {},
   "outputs": [],
   "source": [
    "x, y = generate_instance(5)\n",
    "cost = get_cost(x, y)"
   ]
  },
  {
   "cell_type": "code",
   "execution_count": 82,
   "metadata": {},
   "outputs": [
    {
     "name": "stdout",
     "output_type": "stream",
     "text": [
      "[[ 0.         47.70744177 43.28972164 28.7923601  45.27692569]\n",
      " [47.70744177  0.         82.37718131 20.61552813 48.84669897]\n",
      " [43.28972164 82.37718131  0.         61.91122677 88.        ]\n",
      " [28.7923601  20.61552813 61.91122677  0.         47.42362281]\n",
      " [45.27692569 48.84669897 88.         47.42362281  0.        ]]\n",
      "[[ 0 48 43 29 45]\n",
      " [48  0 82 21 49]\n",
      " [43 82  0 62 88]\n",
      " [29 21 62  0 47]\n",
      " [45 49 88 47  0]]\n"
     ]
    }
   ],
   "source": [
    "print(cost)\n",
    "we = np.round(cost, 0).astype(dtype=np.int64)\n",
    "print(we)"
   ]
  },
  {
   "cell_type": "code",
   "execution_count": null,
   "metadata": {},
   "outputs": [],
   "source": []
  }
 ],
 "metadata": {
  "kernelspec": {
   "display_name": "Python 3 (ipykernel)",
   "language": "python",
   "name": "python3"
  },
  "language_info": {
   "codemirror_mode": {
    "name": "ipython",
    "version": 3
   },
   "file_extension": ".py",
   "mimetype": "text/x-python",
   "name": "python",
   "nbconvert_exporter": "python",
   "pygments_lexer": "ipython3",
   "version": "3.7.11"
  }
 },
 "nbformat": 4,
 "nbformat_minor": 2
}
