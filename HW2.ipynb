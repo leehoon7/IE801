{
 "cells": [
  {
   "cell_type": "markdown",
   "metadata": {},
   "source": [
    "### IE801 물류관리 HW2\n",
    "\n",
    "- 이름 : 이강훈\n",
    "- 학번 : 20203421"
   ]
  },
  {
   "cell_type": "code",
   "execution_count": 33,
   "metadata": {},
   "outputs": [],
   "source": [
    "import networkx as nx\n",
    "import numpy as np\n",
    "import random\n",
    "import matplotlib.pyplot as plt\n",
    "import time\n",
    "import copy\n",
    "\n",
    "import gurobipy as gp\n",
    "from gurobipy import GRB"
   ]
  },
  {
   "cell_type": "markdown",
   "metadata": {},
   "source": [
    "### Problem 1 : Generate TSP instances of n=20, 50, 100 randomly."
   ]
  },
  {
   "cell_type": "code",
   "execution_count": 34,
   "metadata": {},
   "outputs": [],
   "source": [
    "def generate_instance(num_nodes):\n",
    "    x = np.random.randint(100, size=num_nodes)\n",
    "    y = np.random.randint(100, size=num_nodes)\n",
    "    return x, y"
   ]
  },
  {
   "cell_type": "code",
   "execution_count": 59,
   "metadata": {},
   "outputs": [],
   "source": [
    "def visualize_points(x, y, title=None, tour=None):\n",
    "\n",
    "    border = 5\n",
    "    plt.xlim(0 - border, 100 + border)\n",
    "    plt.ylim(0 - border, 100 + border)\n",
    "    \n",
    "    plt.xticks([])\n",
    "    plt.yticks([])\n",
    "    \n",
    "    if title:\n",
    "        plt.title(title)\n",
    "    \n",
    "    if tour is None:\n",
    "        plt.scatter(x, y)\n",
    "    else:\n",
    "        plt.plot(x[tour], y[tour], marker='o')\n",
    "        \n",
    "    plt.show()\n",
    "    plt.close('all')"
   ]
  },
  {
   "cell_type": "code",
   "execution_count": 36,
   "metadata": {},
   "outputs": [
    {
     "data": {
      "image/png": "[encoded data removed]",
      "text/plain": [
       "<Figure size 432x288 with 1 Axes>"
      ]
     },
     "metadata": {},
     "output_type": "display_data"
    },
    {
     "data": {
      "image/png": "[encoded data removed]",
      "text/plain": [
       "<Figure size 432x288 with 1 Axes>"
      ]
     },
     "metadata": {},
     "output_type": "display_data"
    },
    {
     "data": {
      "image/png": "[encoded data removed]",
      "text/plain": [
       "<Figure size 432x288 with 1 Axes>"
      ]
     },
     "metadata": {},
     "output_type": "display_data"
    }
   ],
   "source": [
    "x, y = generate_instance(20)\n",
    "visualize_points(x, y, \"20 nodes\")\n",
    "\n",
    "x, y = generate_instance(50)\n",
    "visualize_points(x, y, \"50 nodes\")\n",
    "\n",
    "x, y = generate_instance(100)\n",
    "visualize_points(x, y, \"100 nodes\")"
   ]
  },
  {
   "cell_type": "markdown",
   "metadata": {},
   "source": [
    "### Problem 2 : Solve the problems using Gurobi and lazy constraints.\n",
    "\n",
    "<!-- ![nn](./Images/HW2_image1.png) -->\n",
    "\n",
    "Reference : https://www.gurobi.com/documentation/9.1/examples/tsp_py.html"
   ]
  },
  {
   "cell_type": "code",
   "execution_count": 37,
   "metadata": {},
   "outputs": [],
   "source": [
    "def get_cost(x, y):\n",
    "    \n",
    "    x_ = x.copy().reshape(-1, 1)\n",
    "    y_ = y.copy().reshape(-1, 1)\n",
    "    cost = np.sqrt((x - x_) ** 2 + (y - y_) ** 2)\n",
    "    \n",
    "    return cost"
   ]
  },
  {
   "cell_type": "code",
   "execution_count": 71,
   "metadata": {},
   "outputs": [],
   "source": [
    "# Callback - use lazy constraints to eliminate sub-tours\n",
    "def subtourelim(model, where):\n",
    "    if where == GRB.Callback.MIPSOL:\n",
    "        # make a list of edges selected in the solution\n",
    "        vals = model.cbGetSolution(model._vars)\n",
    "        selected = gp.tuplelist((i, j) for i, j in model._vars.keys() if vals[i, j] > 0.5)\n",
    "        # find the shortest cycle in the selected edge list\n",
    "        tour = subtour(selected)\n",
    "        if len(tour) < n:\n",
    "            # add subtour elimination constr. for every pair of cities in tour\n",
    "            model.cbLazy(gp.quicksum(model._vars[i, j] for i, j in combinations(tour, 2)) <= len(tour)-1)"
   ]
  },
  {
   "cell_type": "code",
   "execution_count": 72,
   "metadata": {},
   "outputs": [],
   "source": [
    "# Given a tuplelist of edges, find the shortest subtour\n",
    "def subtour(edges):\n",
    "    unvisited = list(range(n))\n",
    "    cycle = range(n+1)  # initial length has 1 more city\n",
    "    while unvisited:  # true if list is non-empty\n",
    "        thiscycle = []\n",
    "        neighbors = unvisited\n",
    "        while neighbors:\n",
    "            current = neighbors[0]\n",
    "            thiscycle.append(current)\n",
    "            unvisited.remove(current)\n",
    "            neighbors = [j for i, j in edges.select(current, '*')\n",
    "                         if j in unvisited]\n",
    "        if len(cycle) > len(thiscycle):\n",
    "            cycle = thiscycle\n",
    "    return cycle"
   ]
  },
  {
   "cell_type": "code",
   "execution_count": 113,
   "metadata": {},
   "outputs": [
    {
     "name": "stdout",
     "output_type": "stream",
     "text": [
      "Changed value of parameter lazyConstraints to 1\n",
      "   Prev: 0  Min: 0  Max: 1  Default: 0\n",
      "Gurobi Optimizer version 9.1.2 build v9.1.2rc0 (win64)\n",
      "Thread count: 4 physical cores, 4 logical processors, using up to 4 threads\n",
      "Optimize a model with 20 rows, 380 columns and 380 nonzeros\n",
      "Model fingerprint: 0x76d032b9\n",
      "Variable types: 0 continuous, 380 integer (380 binary)\n",
      "Coefficient statistics:\n",
      "  Matrix range     [1e+00, 1e+00]\n",
      "  Objective range  [1e+00, 1e+02]\n",
      "  Bounds range     [1e+00, 1e+00]\n",
      "  RHS range        [2e+00, 2e+00]\n",
      "Presolve time: 0.00s\n",
      "Presolved: 20 rows, 380 columns, 380 nonzeros\n",
      "Variable types: 0 continuous, 380 integer (380 binary)\n",
      "\n",
      "Root relaxation: objective 3.340961e+02, 30 iterations, 0.00 seconds\n",
      "\n",
      "    Nodes    |    Current Node    |     Objective Bounds      |     Work\n",
      " Expl Unexpl |  Obj  Depth IntInf | Incumbent    BestBd   Gap | It/Node Time\n",
      "\n",
      "     0     0  334.09614    0    8          -  334.09614      -     -    0s\n",
      "     0     0  343.07066    0    6          -  343.07066      -     -    0s\n",
      "     0     0  344.58417    0   16          -  344.58417      -     -    0s\n",
      "H    0     0                     413.6613210  344.58417  16.7%     -    0s\n",
      "     0     0  353.08261    0   14  413.66132  353.08261  14.6%     -    0s\n",
      "     0     0  353.08261    0   14  413.66132  353.08261  14.6%     -    0s\n",
      "     0     0  356.75736    0    6  413.66132  356.75736  13.8%     -    0s\n",
      "     0     0  356.75736    0   12  413.66132  356.75736  13.8%     -    0s\n",
      "     0     0  356.75736    0   16  413.66132  356.75736  13.8%     -    0s\n",
      "     0     0  357.37407    0   27  413.66132  357.37407  13.6%     -    0s\n",
      "H    0     0                     369.8017051  357.37407  3.36%     -    0s\n",
      "     0     0  357.53928    0   24  369.80171  357.53928  3.32%     -    0s\n",
      "     0     0  357.53928    0    6  369.80171  357.53928  3.32%     -    0s\n",
      "     0     0  360.64710    0   10  369.80171  360.64710  2.48%     -    0s\n",
      "H    0     0                     363.0701887  360.64710  0.67%     -    0s\n",
      "*    0     0               0     361.1463016  361.14630  0.00%     -    0s\n",
      "\n",
      "Cutting planes:\n",
      "  Gomory: 1\n",
      "  MIR: 1\n",
      "  Zero half: 5\n",
      "\n",
      "Explored 1 nodes (127 simplex iterations) in 0.05 seconds\n",
      "Thread count was 4 (of 4 available processors)\n",
      "\n",
      "Solution count 4: 361.146 363.07 369.802 413.661 \n",
      "\n",
      "Optimal solution found (tolerance 1.00e-04)\n",
      "Best objective 3.611463016247e+02, best bound 3.611463016247e+02, gap 0.0000%\n",
      "\n",
      "User-callback calls 124, time in user-callback 0.01 sec\n",
      "\n",
      "Optimal tour: [0, 10, 18, 4, 2, 3, 12, 17, 5, 6, 19, 7, 16, 8, 13, 1, 9, 15, 14, 11]\n",
      "Optimal cost: 361.146\n",
      "\n"
     ]
    }
   ],
   "source": [
    "from itertools import combinations\n",
    "\n",
    "num_nodes = 20\n",
    "n = num_nodes\n",
    "\n",
    "random.seed(1)\n",
    "x, y = generate_instance(num_nodes)\n",
    "cost = get_cost(x, y)\n",
    "\n",
    "model = gp.Model()\n",
    "variables = gp.tupledict()\n",
    "\n",
    "for i in range(num_nodes):\n",
    "    for j in range(num_nodes):\n",
    "        if i != j:\n",
    "            variables[i, j] = model.addVar(obj=cost[i][j], vtype=GRB.BINARY)\n",
    "\n",
    "for i, j in variables.keys():\n",
    "    variables[j, i] = variables[i, j]\n",
    "\n",
    "for i in range(n):\n",
    "    temp_list = list(range(n))\n",
    "    temp_list.pop(i)\n",
    "    model.addConstr(sum(variables[i, j] for j in temp_list) == 2)\n",
    "#     model.addConstr(sum(variables[i, j] for j in temp_list) == 1)\n",
    "#     model.addConstr(sum(variables[j, i] for j in temp_list) == 1)\n",
    "\n",
    "model._vars = variables\n",
    "model.Params.lazyConstraints = 1\n",
    "model.optimize(subtourelim)\n",
    "\n",
    "vals = model.getAttr('x', variables)\n",
    "selected = gp.tuplelist((i, j) for i, j in vals.keys() if vals[i, j] > 0.5)\n",
    "\n",
    "tour = subtour(selected)\n",
    "assert len(tour) == num_nodes\n",
    "\n",
    "print('')\n",
    "print('Optimal tour: %s' % str(tour))\n",
    "print('Optimal cost: %g' % model.objVal)\n",
    "print('')"
   ]
  },
  {
   "cell_type": "code",
   "execution_count": 114,
   "metadata": {},
   "outputs": [
    {
     "data": {
      "text/plain": [
       "(array([27, 69,  3, 17,  8, 59, 77, 76, 83, 60, 26, 28, 22, 98, 35, 62, 76,\n",
       "        18, 22, 96]),\n",
       " array([ 0, 35, 29, 42, 10, 80, 91, 60, 55, 40,  9,  0, 79, 32,  7, 32, 53,\n",
       "        85,  7, 81]))"
      ]
     },
     "execution_count": 114,
     "metadata": {},
     "output_type": "execute_result"
    }
   ],
   "source": [
    "x, y"
   ]
  },
  {
   "cell_type": "code",
   "execution_count": 115,
   "metadata": {},
   "outputs": [
    {
     "name": "stdout",
     "output_type": "stream",
     "text": [
      "[ 0 10 18  4  2  3 12 17  5  6 19  7 16  8 13  1  9 15 14 11]\n",
      "[27 26 22  8  3 17 22 18 59 77 96 76 76 83 98 69 60 62 35 28]\n"
     ]
    }
   ],
   "source": [
    "print(np.array(tour))\n",
    "print(x[np.array(tour)])"
   ]
  },
  {
   "cell_type": "code",
   "execution_count": 116,
   "metadata": {},
   "outputs": [
    {
     "data": {
      "image/png": "[encoded data removed]",
      "text/plain": [
       "<Figure size 432x288 with 1 Axes>"
      ]
     },
     "metadata": {},
     "output_type": "display_data"
    }
   ],
   "source": [
    "tour = tour + tour[:1]\n",
    "visualize_points(x, y, 'tour', np.array(tour))"
   ]
  },
  {
   "cell_type": "code",
   "execution_count": null,
   "metadata": {},
   "outputs": [],
   "source": []
  }
 ],
 "metadata": {
  "kernelspec": {
   "display_name": "Python 3 (ipykernel)",
   "language": "python",
   "name": "python3"
  },
  "language_info": {
   "codemirror_mode": {
    "name": "ipython",
    "version": 3
   },
   "file_extension": ".py",
   "mimetype": "text/x-python",
   "name": "python",
   "nbconvert_exporter": "python",
   "pygments_lexer": "ipython3",
   "version": "3.7.11"
  }
 },
 "nbformat": 4,
 "nbformat_minor": 2
}
