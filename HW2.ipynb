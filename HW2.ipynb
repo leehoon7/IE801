{
 "cells": [
  {
   "cell_type": "markdown",
   "metadata": {},
   "source": [
    "### IE801 물류관리 HW2\n",
    "\n",
    "- 이름 : 이강훈\n",
    "- 학번 : 20203421"
   ]
  },
  {
   "cell_type": "code",
   "execution_count": 1,
   "metadata": {},
   "outputs": [],
   "source": [
    "import networkx as nx\n",
    "import numpy as np\n",
    "import random\n",
    "import matplotlib.pyplot as plt\n",
    "import time\n",
    "import copy\n",
    "\n",
    "import gurobipy as gp\n",
    "from gurobipy import GRB"
   ]
  },
  {
   "cell_type": "markdown",
   "metadata": {},
   "source": [
    "### Problem 1 : Generate TSP instances of n=20, 50, 100 randomly."
   ]
  },
  {
   "cell_type": "code",
   "execution_count": 2,
   "metadata": {},
   "outputs": [],
   "source": [
    "def generate_instance(num_nodes):\n",
    "    x = np.random.randint(100, size=num_nodes)\n",
    "    y = np.random.randint(100, size=num_nodes)\n",
    "    return x, y"
   ]
  },
  {
   "cell_type": "code",
   "execution_count": 3,
   "metadata": {},
   "outputs": [],
   "source": [
    "def visualize_points(x, y, title=None):\n",
    "    plt.scatter(x, y)\n",
    "\n",
    "    border = 5\n",
    "    plt.xlim(0 - border, 100 + border)\n",
    "    plt.ylim(0 - border, 100 + border)\n",
    "    \n",
    "    plt.xticks([])\n",
    "    plt.yticks([])\n",
    "    \n",
    "    if title:\n",
    "        plt.title(title)\n",
    "    \n",
    "    plt.show()\n",
    "    plt.close('all')"
   ]
  },
  {
   "cell_type": "code",
   "execution_count": 4,
   "metadata": {},
   "outputs": [
    {
     "data": {
      "image/png": "[encoded data removed]",
      "text/plain": [
       "<Figure size 432x288 with 1 Axes>"
      ]
     },
     "metadata": {},
     "output_type": "display_data"
    },
    {
     "data": {
      "image/png": "[encoded data removed]",
      "text/plain": [
       "<Figure size 432x288 with 1 Axes>"
      ]
     },
     "metadata": {},
     "output_type": "display_data"
    },
    {
     "data": {
      "image/png": "[encoded data removed]",
      "text/plain": [
       "<Figure size 432x288 with 1 Axes>"
      ]
     },
     "metadata": {},
     "output_type": "display_data"
    }
   ],
   "source": [
    "x, y = generate_instance(20)\n",
    "visualize_points(x, y, \"20 nodes\")\n",
    "\n",
    "x, y = generate_instance(50)\n",
    "visualize_points(x, y, \"50 nodes\")\n",
    "\n",
    "x, y = generate_instance(100)\n",
    "visualize_points(x, y, \"100 nodes\")"
   ]
  },
  {
   "cell_type": "markdown",
   "metadata": {},
   "source": [
    "### Problem 2 : Solve the problems using Gurobi and lazy constraints.\n",
    "\n",
    "![nn](./Images/HW2_image1.png)\n",
    "\n",
    "Reference : https://www.gurobi.com/documentation/9.1/examples/tsp_py.html"
   ]
  },
  {
   "cell_type": "code",
   "execution_count": 5,
   "metadata": {},
   "outputs": [],
   "source": [
    "def get_cost(x, y):\n",
    "    \n",
    "    x_ = x.copy().reshape(-1, 1)\n",
    "    y_ = y.copy().reshape(-1, 1)\n",
    "    cost = np.sqrt((x - x_) ** 2 + (y - y_) ** 2)\n",
    "    \n",
    "    return cost"
   ]
  },
  {
   "cell_type": "code",
   "execution_count": 56,
   "metadata": {},
   "outputs": [],
   "source": [
    "\n",
    "# Callback - use lazy constraints to eliminate sub-tours\n",
    "def subtourelim(model, where):\n",
    "    if where == GRB.Callback.MIPSOL:\n",
    "        # make a list of edges selected in the solution\n",
    "        vals = model.cbGetSolution(model._vars)\n",
    "        selected = gp.tuplelist((i, j) for i, j in model._vars.keys() if vals[i, j] > 0.5)\n",
    "        # find the shortest cycle in the selected edge list\n",
    "        tour = subtour(selected)\n",
    "        print(\"---------------------------\")\n",
    "        print(tour)\n",
    "        if len(tour) < n:\n",
    "            # add subtour elimination constr. for every pair of cities in tour\n",
    "            model.cbLazy(gp.quicksum(model._vars[i, j] for i, j in combinations(tour, 2)) <= len(tour)-1)"
   ]
  },
  {
   "cell_type": "code",
   "execution_count": 57,
   "metadata": {},
   "outputs": [],
   "source": [
    "# Given a tuplelist of edges, find the shortest subtour\n",
    "\n",
    "def subtour(edges):\n",
    "    unvisited = list(range(n))\n",
    "    cycle = range(n+1)  # initial length has 1 more city\n",
    "    while unvisited:  # true if list is non-empty\n",
    "        thiscycle = []\n",
    "        neighbors = unvisited\n",
    "        while neighbors:\n",
    "            current = neighbors[0]\n",
    "            thiscycle.append(current)\n",
    "            unvisited.remove(current)\n",
    "            neighbors = [j for i, j in edges.select(current, '*')\n",
    "                         if j in unvisited]\n",
    "        if len(cycle) > len(thiscycle):\n",
    "            cycle = thiscycle\n",
    "    return cycle"
   ]
  },
  {
   "cell_type": "code",
   "execution_count": 59,
   "metadata": {},
   "outputs": [
    {
     "name": "stdout",
     "output_type": "stream",
     "text": [
      "Changed value of parameter lazyConstraints to 1\n",
      "   Prev: 0  Min: 0  Max: 1  Default: 0\n",
      "Gurobi Optimizer version 9.1.2 build v9.1.2rc0 (win64)\n",
      "Thread count: 4 physical cores, 4 logical processors, using up to 4 threads\n",
      "Optimize a model with 20 rows, 380 columns and 380 nonzeros\n",
      "Model fingerprint: 0x38a483a4\n",
      "Variable types: 0 continuous, 380 integer (380 binary)\n",
      "Coefficient statistics:\n",
      "  Matrix range     [1e+00, 1e+00]\n",
      "  Objective range  [4e+00, 1e+02]\n",
      "  Bounds range     [1e+00, 1e+00]\n",
      "  RHS range        [2e+00, 2e+00]\n",
      "---------------------------\n",
      "[0, 1, 2]\n",
      "Presolve time: 0.00s\n",
      "Presolved: 20 rows, 380 columns, 380 nonzeros\n",
      "Variable types: 0 continuous, 380 integer (380 binary)\n",
      "---------------------------\n",
      "[1, 4, 17]\n",
      "---------------------------\n",
      "[0, 18, 1, 19]\n",
      "\n",
      "Root relaxation: objective 3.764738e+02, 27 iterations, 0.00 seconds\n",
      "---------------------------\n",
      "[0, 9, 11]\n",
      "---------------------------\n",
      "[3, 12, 18]\n",
      "\n",
      "    Nodes    |    Current Node    |     Objective Bounds      |     Work\n",
      " Expl Unexpl |  Obj  Depth IntInf | Incumbent    BestBd   Gap | It/Node Time\n",
      "\n",
      "     0     0  393.80131    0    6          -  393.80131      -     -    0s\n",
      "---------------------------\n",
      "[6, 7, 15]\n",
      "---------------------------\n",
      "[0, 9, 11, 12, 13, 10, 8, 4, 16, 5, 14, 7, 6, 15, 2, 18, 3, 17, 1, 19]\n",
      "H    0     0                     735.7930368  393.80131  46.5%     -    0s\n",
      "---------------------------\n",
      "[0, 7, 16, 13, 10, 8, 4, 17, 1, 6, 15, 2, 12, 18, 3, 19, 5, 14, 11, 9]\n",
      "H    0     0                     417.3048046  393.80131  5.63%     -    0s\n",
      "---------------------------\n",
      "[2, 6, 15]\n",
      "---------------------------\n",
      "[0, 7, 16, 13, 10, 8, 4, 17, 1, 12, 18, 3, 19, 2, 15, 6, 5, 14, 11, 9]\n",
      "H    0     0                     395.5584751  393.80131  0.44%     -    0s\n",
      "     0     0     cutoff    0       395.55848  395.55848  0.00%     -    0s\n",
      "\n",
      "Cutting planes:\n",
      "  Clique: 1\n",
      "  Zero half: 1\n",
      "  Lazy constraints: 6\n",
      "\n",
      "Explored 1 nodes (33 simplex iterations) in 0.03 seconds\n",
      "Thread count was 4 (of 4 available processors)\n",
      "\n",
      "Solution count 3: 395.558 417.305 735.793 \n",
      "\n",
      "Optimal solution found (tolerance 1.00e-04)\n",
      "Best objective 3.955584751470e+02, best bound 3.955584751470e+02, gap 0.0000%\n",
      "\n",
      "User-callback calls 60, time in user-callback 0.01 sec\n",
      "20\n",
      "\n",
      "Optimal tour: [0, 7, 16, 13, 10, 8, 4, 17, 1, 12, 18, 3, 19, 2, 15, 6, 5, 14, 11, 9]\n",
      "Optimal cost: 395.558\n",
      "\n"
     ]
    }
   ],
   "source": [
    "from itertools import combinations\n",
    "\n",
    "num_nodes = 20\n",
    "n = num_nodes\n",
    "\n",
    "x, y = generate_instance(num_nodes)\n",
    "cost = get_cost(x, y)\n",
    "\n",
    "model = gp.Model()\n",
    "variables = gp.tupledict()\n",
    "\n",
    "for i in range(num_nodes):\n",
    "    for j in range(num_nodes):\n",
    "        if i != j:\n",
    "            variables[i, j] = model.addVar(obj=cost[i][j], vtype=GRB.BINARY)\n",
    "\n",
    "for i, j in variables.keys():\n",
    "    variables[j, i] = variables[i, j]\n",
    "\n",
    "model.addConstrs(variables.sum(i, '*') == 2 for i in range(num_nodes))\n",
    "\n",
    "model._vars = variables\n",
    "model.Params.lazyConstraints = 1\n",
    "model.optimize(subtourelim)\n",
    "\n",
    "vals = model.getAttr('x', variables)\n",
    "selected = gp.tuplelist((i, j) for i, j in vals.keys() if vals[i, j] > 0.5)\n",
    "\n",
    "tour = subtour(selected)\n",
    "print(len(tour))\n",
    "assert len(tour) == num_nodes\n",
    "\n",
    "print('')\n",
    "print('Optimal tour: %s' % str(tour))\n",
    "print('Optimal cost: %g' % model.objVal)\n",
    "print('')"
   ]
  },
  {
   "cell_type": "code",
   "execution_count": null,
   "metadata": {},
   "outputs": [],
   "source": []
  }
 ],
 "metadata": {
  "kernelspec": {
   "display_name": "Python 3 (ipykernel)",
   "language": "python",
   "name": "python3"
  },
  "language_info": {
   "codemirror_mode": {
    "name": "ipython",
    "version": 3
   },
   "file_extension": ".py",
   "mimetype": "text/x-python",
   "name": "python",
   "nbconvert_exporter": "python",
   "pygments_lexer": "ipython3",
   "version": "3.7.11"
  }
 },
 "nbformat": 4,
 "nbformat_minor": 2
}
